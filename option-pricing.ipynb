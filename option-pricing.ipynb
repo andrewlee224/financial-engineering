{
 "cells": [
  {
   "cell_type": "markdown",
   "metadata": {},
   "source": [
    "Questions 1-8 should be answered by building a 15-period binomial model whose parameters should be calibrated to a Black-Scholes geometric Brownian motion model with: $T = .25$ years, $S_{0} = 100$, $r = 2\\%$,  $\\sigma = 30\\%$,\n",
    "\n",
    "and a dividend yield of $c = 1\\%$."
   ]
  },
  {
   "cell_type": "code",
   "execution_count": 3,
   "metadata": {
    "collapsed": true
   },
   "outputs": [],
   "source": [
    "# First, convert Black-Scholes continuous parameters to analogous discrete Binomial model parameters\n",
    "import math\n",
    "T = .25\n",
    "S0 = 100\n",
    "r = 2e-2\n",
    "sigma = 30e-2\n",
    "c = 1e-2\n",
    "\n",
    "n = 15\n",
    "\n",
    "R_n = math.exp(r * T / n)\n",
    "R_n_c = 1 + r*T/n - c*T/n\n",
    "u_n = math.exp(sigma * math.sqrt(T/n))\n",
    "d_n = 1 / u_n"
   ]
  },
  {
   "cell_type": "code",
   "execution_count": 4,
   "metadata": {},
   "outputs": [
    {
     "data": {
      "text/plain": [
       "(1.0003333888950623,\n",
       " 1.0001666666666666,\n",
       " 1.0394896104013376,\n",
       " 0.9620105771080376)"
      ]
     },
     "execution_count": 4,
     "metadata": {},
     "output_type": "execute_result"
    }
   ],
   "source": [
    "R_n, R_n_c, u_n, d_n"
   ]
  },
  {
   "cell_type": "code",
   "execution_count": 6,
   "metadata": {},
   "outputs": [
    {
     "data": {
      "text/plain": [
       "0.4924700506245105"
      ]
     },
     "execution_count": 6,
     "metadata": {},
     "output_type": "execute_result"
    }
   ],
   "source": [
    "# Risk-neutral probability\n",
    "q_n = (math.exp((r - c) * T/n) - d_n) / (u_n - d_n)\n",
    "\n",
    "q_n"
   ]
  },
  {
   "cell_type": "code",
   "execution_count": 7,
   "metadata": {
    "collapsed": true
   },
   "outputs": [],
   "source": [
    "def choose(n, k):\n",
    "    return math.factorial(n) / (math.factorial(n - k) * math.factorial(k))"
   ]
  },
  {
   "cell_type": "code",
   "execution_count": 56,
   "metadata": {
    "collapsed": true
   },
   "outputs": [],
   "source": [
    "def choose_binomial(S0, u, d, q, n):\n",
    "    value_nodes = []\n",
    "    risk_neutral_nodes = []\n",
    "    \n",
    "    for i in range(n+1):\n",
    "        num_paths = choose(n, i)\n",
    "        num_down = i\n",
    "        num_up = n - num_down\n",
    "        \n",
    "        value = S0 * u**num_up * d**num_down\n",
    "        risk_neutral = num_paths * (q**num_up * (1-q)**num_down) * S0\n",
    "        value_nodes.append(value)\n",
    "        risk_neutral_nodes.append(risk_neutral)\n",
    "    \n",
    "    return value_nodes, risk_neutral_nodes"
   ]
  },
  {
   "cell_type": "code",
   "execution_count": 132,
   "metadata": {},
   "outputs": [],
   "source": [
    "from collections import defaultdict\n",
    "\n",
    "\n",
    "class Node(object):\n",
    "    \n",
    "    def __init__(self, value=None):\n",
    "        self.value = value\n",
    "        self.values = defaultdict(lambda: None)\n",
    "        self.derived_value = None\n",
    "        self.futures_value = None\n",
    "        self.parent_up = None\n",
    "        self.parent_down = None\n",
    "        self.up = None\n",
    "        self.down = None\n",
    "\n",
    "\n",
    "class Lattice(object):\n",
    "    \n",
    "    def __init__(self):\n",
    "        self.layers = []\n",
    "    \n",
    "\n",
    "class BinomialModel(object):\n",
    "    \n",
    "    def __init__(self, S0, u, d, q, r, n):\n",
    "        self.S0 = S0\n",
    "        self.q = q\n",
    "        self.u = u\n",
    "        self.d = d\n",
    "        self.r = r\n",
    "        self.n = n\n",
    "        self.lattice = Lattice()\n",
    "        self.fill_lattice()\n",
    "        \n",
    "    def fill_lattice(self):\n",
    "        self.lattice.layers = [[Node() for i in range(i+1)] for i in range(self.n+1)]\n",
    "        self.lattice.layers[0][0].value = self.S0\n",
    "        self.lattice.layers[0][0].values['stock'] = self.S0\n",
    "        \n",
    "        for layer in range(self.n):\n",
    "            for node_idx, node in enumerate(self.lattice.layers[layer]):\n",
    "                next_layer = self.lattice.layers[layer + 1]\n",
    "                \n",
    "                up_node = next_layer[node_idx]\n",
    "                down_node = next_layer[node_idx + 1]\n",
    "                node.up = up_node\n",
    "                node.down = down_node\n",
    "                \n",
    "                up_node.value = node.value * self.u\n",
    "                up_node.values['stock'] = up_node.value\n",
    "                up_node.parent_up = node\n",
    "                \n",
    "                down_node.value = node.value * self.d\n",
    "                down_node.values['stock'] = down_node.value\n",
    "                down_node.parent_down = node\n",
    "    \n",
    "    def fill_futures_lattice(self):\n",
    "        def get_exercise_value(node_value, k):\n",
    "            if call:\n",
    "                return max(node.value - k, 0)\n",
    "            else:\n",
    "                return max(k - node.value, 0)\n",
    "            \n",
    "        for node in self.lattice.layers[-1]:\n",
    "            node.values['futures'] = node.value\n",
    "        \n",
    "        for layer_idx in range(self.n - 1, -1, -1):\n",
    "            layer = self.lattice.layers[layer_idx]\n",
    "            for node in layer:            \n",
    "                node.values['futures'] = self.q * node.up.values['futures'] + (1-self.q) * node.down.values['futures'] \n",
    "    \n",
    "    def american_option(self, k, call=True, futures=None):\n",
    "        def get_exercise_value(node_value, k):\n",
    "            if call:\n",
    "                return max(node_value - k, 0)\n",
    "            else:\n",
    "                return max(k - node_value, 0)\n",
    "        \n",
    "        if futures:\n",
    "            self.fill_futures_lattice()\n",
    "            base_value = 'futures'\n",
    "            last_idx = futures\n",
    "        else:\n",
    "            base_value = 'stock'\n",
    "            last_idx = self.n\n",
    "            \n",
    "        \n",
    "        for node in self.lattice.layers[last_idx]:\n",
    "            node.values['option'] = get_exercise_value(node.values[base_value], k)\n",
    "        \n",
    "        early_exercise = last_idx\n",
    "        for layer_idx in range(last_idx - 1, -1, -1):\n",
    "            layer = self.lattice.layers[layer_idx]\n",
    "            for node in layer:\n",
    "                exercise_value = get_exercise_value(node.values[base_value], k)\n",
    "                continue_value = (\n",
    "                    (1 / self.r) * (self.q * node.up.values['option'] + (1-self.q) * node.down.values['option'])\n",
    "                )\n",
    "                if exercise_value > continue_value:\n",
    "                    early_exercise = min(early_exercise, layer_idx)\n",
    "                node.values['option'] = max(exercise_value, continue_value)\n",
    "        \n",
    "        return self.lattice.layers[0][0].values['option'], early_exercise\n",
    "    "
   ]
  },
  {
   "cell_type": "code",
   "execution_count": 133,
   "metadata": {},
   "outputs": [
    {
     "name": "stdout",
     "output_type": "stream",
     "text": [
      "Automatic pdb calling has been turned ON\n"
     ]
    },
    {
     "data": {
      "text/plain": [
       "(2.604077132966553, 15)"
      ]
     },
     "execution_count": 133,
     "metadata": {},
     "output_type": "execute_result"
    }
   ],
   "source": [
    "%pdb on\n",
    "bm = BinomialModel(S0, u_n, d_n, q_n, R_n, n)\n",
    "\n",
    "[node.value for node in bm.lattice.layers[15]]\n",
    "#[node.value for node in bm.lattice.layers[-1]]\n",
    "bm.american_option(k=110, call=True)\n",
    "#[node.values['option'] for node in bm.lattice.layers[14]]\n"
   ]
  },
  {
   "cell_type": "code",
   "execution_count": 102,
   "metadata": {},
   "outputs": [
    {
     "data": {
      "text/plain": [
       "112.05137271119496"
      ]
     },
     "execution_count": 102,
     "metadata": {},
     "output_type": "execute_result"
    }
   ],
   "source": [
    "110 * (1/R_n**15) + 2.60"
   ]
  },
  {
   "cell_type": "code",
   "execution_count": 87,
   "metadata": {},
   "outputs": [
    {
     "data": {
      "text/plain": [
       "[171.95300071053308,\n",
       " 159.13637211355226,\n",
       " 147.27503925386117,\n",
       " 136.29779854318545,\n",
       " 126.13875359895198,\n",
       " 116.73691966826433,\n",
       " 108.03585753639491,\n",
       " 99.983334722145,\n",
       " 92.53101192622852,\n",
       " 85.63415285042973,\n",
       " 79.2513556455781,\n",
       " 73.34430437622277,\n",
       " 67.87753901004919,\n",
       " 62.81824255128384,\n",
       " 58.13604404024883]"
      ]
     },
     "execution_count": 87,
     "metadata": {},
     "output_type": "execute_result"
    }
   ],
   "source": [
    "[node.derived_value for node in bm.lattice.layers[14]]"
   ]
  },
  {
   "cell_type": "code",
   "execution_count": 69,
   "metadata": {},
   "outputs": [
    {
     "data": {
      "text/plain": [
       "[178.77315075823685,\n",
       " 165.44817784754298,\n",
       " 153.11639044774742,\n",
       " 141.70376083168938,\n",
       " 131.1417789769353,\n",
       " 121.36704130007331,\n",
       " 112.32087004496371,\n",
       " 103.94896104013372,\n",
       " 96.20105771080371,\n",
       " 89.0306493886385,\n",
       " 82.3946921081774,\n",
       " 76.25335021388379,\n",
       " 70.56975722668103,\n",
       " 65.30979453445644,\n",
       " 60.44188657801225,\n",
       " 55.936811302964905]"
      ]
     },
     "execution_count": 69,
     "metadata": {},
     "output_type": "execute_result"
    }
   ],
   "source": [
    "vals, qs = choose_binomial(S0, u_n, d_n, q_n, 15)\n",
    "vals"
   ]
  },
  {
   "cell_type": "markdown",
   "metadata": {},
   "source": [
    "Q1. Compute the price of an American call option with strike $K = 110$ and maturity $T = .25$ years."
   ]
  },
  {
   "cell_type": "code",
   "execution_count": 137,
   "metadata": {},
   "outputs": [
    {
     "data": {
      "text/plain": [
       "2.604077132966553"
      ]
     },
     "execution_count": 137,
     "metadata": {},
     "output_type": "execute_result"
    }
   ],
   "source": [
    "bm = BinomialModel(S0, u_n, d_n, q_n, R_n, n)\n",
    "price, _ = bm.american_option(k=110, call=True)\n",
    "price"
   ]
  },
  {
   "cell_type": "markdown",
   "metadata": {},
   "source": [
    "Q2. Compute the price of an American put option with strike $K = 110$ and maturity $T = .25$ years."
   ]
  },
  {
   "cell_type": "code",
   "execution_count": 138,
   "metadata": {},
   "outputs": [
    {
     "data": {
      "text/plain": [
       "12.359784797284911"
      ]
     },
     "execution_count": 138,
     "metadata": {},
     "output_type": "execute_result"
    }
   ],
   "source": [
    "bm = BinomialModel(S0, u_n, d_n, q_n, R_n, n)\n",
    "price, _ = bm.american_option(k=110, call=False)\n",
    "price"
   ]
  },
  {
   "cell_type": "markdown",
   "metadata": {},
   "source": [
    "Q3. Should the option from Q2 be exercised early? If yes, during which period?"
   ]
  },
  {
   "cell_type": "code",
   "execution_count": 140,
   "metadata": {},
   "outputs": [
    {
     "data": {
      "text/plain": [
       "5"
      ]
     },
     "execution_count": 140,
     "metadata": {},
     "output_type": "execute_result"
    }
   ],
   "source": [
    "bm = BinomialModel(S0, u_n, d_n, q_n, R_n, n)\n",
    "_, early_exercise = bm.american_option(k=110, call=False)\n",
    "early_exercise"
   ]
  },
  {
   "cell_type": "code",
   "execution_count": null,
   "metadata": {
    "collapsed": true
   },
   "outputs": [],
   "source": []
  }
 ],
 "metadata": {
  "kernelspec": {
   "display_name": "Python 2",
   "language": "python",
   "name": "python2"
  },
  "language_info": {
   "codemirror_mode": {
    "name": "ipython",
    "version": 2
   },
   "file_extension": ".py",
   "mimetype": "text/x-python",
   "name": "python",
   "nbconvert_exporter": "python",
   "pygments_lexer": "ipython2",
   "version": "2.7.13"
  }
 },
 "nbformat": 4,
 "nbformat_minor": 2
}
